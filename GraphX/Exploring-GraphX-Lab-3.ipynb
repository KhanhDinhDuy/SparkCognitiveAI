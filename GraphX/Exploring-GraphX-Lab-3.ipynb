{
 "cells": [
  {
   "cell_type": "markdown",
   "metadata": {},
   "source": [
    "# <center>Exploring GraphX</center>\n",
    "## <center>Introduction to Graph-Parallel</center>\n",
    "### <center>July 29, 2016</center>"
   ]
  },
  {
   "cell_type": "markdown",
   "metadata": {},
   "source": [
    "<img src = \"http://spark.apache.org/docs/latest/img/graphx_logo.png\", width = 600, align = 'centre'>"
   ]
  },
  {
   "cell_type": "markdown",
   "metadata": {},
   "source": [
    "## Welcome to the third lab in the course, Exploring GraphX.\n",
    "\n",
    "### GraphX is Apache Spark's API for graph and graph-parallel computations.\n",
    "\n",
    "In this lab exercise, you will take a look at how to modify an existing graph. You will take a look at how Property and Structural Operators work. Then we use a combination of a few operators that you've learned about visualization and modification of a graph and put them into action!"
   ]
  },
  {
   "cell_type": "markdown",
   "metadata": {},
   "source": [
    "### Some Notebook Commands\n",
    "#### In case you haven't dealt with a Jupyter Notebook before, here are some quick, useful commands that may be handy to get started.\n",
    "<ul>\n",
    "    <li>Run a cell: CTRL + ENTER</li>\n",
    "    <li>Create a cell above a cell: a</li>\n",
    "    <li>Create a cell below a cell: b</li>\n",
    "    <li>Change a cell to Markdown: m</li>\n",
    "    \n",
    "    <li>Change a cell to code: y</li>\n",
    "</ul>\n",
    "\n",
    "<b> If you are interested in more keyboard shortcuts, go to Help -> Keyboard Shortcuts </b>"
   ]
  },
  {
   "cell_type": "markdown",
   "metadata": {},
   "source": [
    "So last exercise we looked at visualizing the graph to the best of our ability given GraphX. So we dealt with a few different useful classes, now let's try modifying our 'facebook'."
   ]
  },
  {
   "cell_type": "markdown",
   "metadata": {},
   "source": [
    "Once again we will start importing our usual librarys from before:\n",
    "\n",
    "- org.apache.spark._ \n",
    "- org.apache.spark.graphx._\n",
    "- org.apache.spark.rdd.RDD "
   ]
  },
  {
   "cell_type": "code",
   "execution_count": 2,
   "metadata": {
    "collapsed": true
   },
   "outputs": [],
   "source": [
    "import org.apache.spark._\n",
    "import org.apache.spark.graphx._\n",
    "import org.apache.spark.rdd.RDD"
   ]
  },
  {
   "cell_type": "markdown",
   "metadata": {},
   "source": [
    "Highlight over the box below for the answer\n",
    "<table width=\"100%\" cellspacing=\"0\" cellpadding=\"0\" border=\"0\" align=\"center\" bgcolor=\"#ff6600\">\n",
    "<td> <font color = \"white\">import org.apache.spark.&#95;<br>\n",
    "import org.apache.spark.graphx.&#95;<br>\n",
    "import org.apache.spark.rdd.RDD</font>\n",
    "</td>\n",
    "</table>"
   ]
  },
  {
   "cell_type": "markdown",
   "metadata": {},
   "source": [
    "Now let's create the vertices of our 'facebook' graph, which included the following People:\n",
    "\n",
    "- Billy Bill -> VertexId = 1\n",
    "- Jacob Johnson -> VertexId = 2\n",
    "- Andrew Smith -> VertexId = 3\n",
    "\n",
    "and 2 Pages:\n",
    "\n",
    "- Iron Man Fan Page -> VertexId = 4\n",
    "- Captain America Fan Page -> VertexId = 5\n",
    "\n",
    "Make this in one step again and store it as vertexRDD."
   ]
  },
  {
   "cell_type": "code",
   "execution_count": 3,
   "metadata": {},
   "outputs": [],
   "source": [
    "val vertexRDD: RDD[(Long, (String, String))] = sc.parallelize(Array((1L, (\"Billy Bill\", \"Person\")), (2L, (\"Jacob Johnson\", \"Person\")), (3L, (\"Andrew Smith\", \"Person\")), (4L, (\"Iron Man Fan Page\", \"Page\")), (5L, (\"Captain America Fan Page\", \"Page\"))))"
   ]
  },
  {
   "cell_type": "markdown",
   "metadata": {},
   "source": [
    "Highlight over the box below for the answer\n",
    "<table width=\"100%\" cellspacing=\"0\" cellpadding=\"0\" border=\"0\" align=\"center\" bgcolor=\"#ff6600\">\n",
    "<td> <font color = \"white\">val vertexRDD: RDD[(Long, (String, String))] = sc.parallelize(Array((1L, (\"Billy Bill\", \"Person\")), (2L, (\"Jacob Johnson\", \"Person\")), (3L, (\"Andrew Smith\", \"Person\")), (4L, (\"Iron Man Fan Page\", \"Page\")), (5L, (\"Captain America Fan Page\", \"Page\"))))</font>\n",
    "</td>\n",
    "</table>"
   ]
  },
  {
   "cell_type": "markdown",
   "metadata": {},
   "source": [
    "Now let's create the relationships of our 'facebook' graph again:\n",
    "\n",
    "- Billy is Friends with Jacob\n",
    "- Billy is Friends with Andrew\n",
    "- Jacob is a Follower of the Iron Man Fan Page\n",
    "- Jacob is a Follower of the the Captain America Fan Page\n",
    "- Andrew is a Follower of the the Captain America Fan Page\n",
    "\n",
    "Make this in one step again and store it as edgeRDD."
   ]
  },
  {
   "cell_type": "code",
   "execution_count": 4,
   "metadata": {
    "collapsed": true
   },
   "outputs": [],
   "source": [
    "val edgeRDD: RDD[Edge[String]] = sc.parallelize(Array(Edge(1L, 2L, \"Friends\"), Edge(1L, 3L, \"Friends\"), Edge(2L, 4L, \"Follower\"), Edge(2L, 5L, \"Follower\"), Edge(3L, 5L, \"Follower\")))"
   ]
  },
  {
   "cell_type": "markdown",
   "metadata": {},
   "source": [
    "Highlight over the box below for the answer\n",
    "<table width=\"100%\" cellspacing=\"0\" cellpadding=\"0\" border=\"0\" align=\"center\" bgcolor=\"#ff6600\">\n",
    "<td> <font color = \"white\">val edgeRDD: RDD[Edge[String]] = sc.parallelize(Array(Edge(1L, 2L, \"Friends\"), Edge(1L, 3L, \"Friends\"), Edge(2L, 4L, \"Follower\"), Edge(2L, 5L, \"Follower\"), Edge(3L, 5L, \"Follower\")))</font>\n",
    "</td>\n",
    "</table>"
   ]
  },
  {
   "cell_type": "markdown",
   "metadata": {},
   "source": [
    "Then we will go ahead and create our default \"fallback\" vertex called defaultvertex which a tuple with \"Self\" and \"Missing\"."
   ]
  },
  {
   "cell_type": "code",
   "execution_count": 5,
   "metadata": {
    "collapsed": true
   },
   "outputs": [],
   "source": [
    "var defaultvertex = (\"Self\", \"Missing\")"
   ]
  },
  {
   "cell_type": "markdown",
   "metadata": {},
   "source": [
    "Highlight over the box below for the answer\n",
    "<table width=\"100%\" cellspacing=\"0\" cellpadding=\"0\" border=\"0\" align=\"center\" bgcolor=\"#ff6600\">\n",
    "<td> <font color = \"white\">var defaultvertex = (\"Self\", \"Missing\")</font>\n",
    "</td>\n",
    "</table>"
   ]
  },
  {
   "cell_type": "markdown",
   "metadata": {},
   "source": [
    "Alright! Once again let's create our graph called facebook."
   ]
  },
  {
   "cell_type": "code",
   "execution_count": 6,
   "metadata": {
    "collapsed": true
   },
   "outputs": [],
   "source": [
    "var facebook = Graph(vertexRDD, edgeRDD, defaultvertex)"
   ]
  },
  {
   "cell_type": "markdown",
   "metadata": {},
   "source": [
    "Highlight over the box below for the answer\n",
    "<table width=\"100%\" cellspacing=\"0\" cellpadding=\"0\" border=\"0\" align=\"center\" bgcolor=\"#ff6600\">\n",
    "<td> <font color = \"white\">var facebook = Graph(vertexRDD, edgeRDD, defaultvertex)</font>\n",
    "</td>\n",
    "</table>"
   ]
  },
  {
   "cell_type": "markdown",
   "metadata": {},
   "source": [
    "Perfect! Here's a reminder of the visualized Graph:\n",
    "\n",
    "<img src = \"http://i.imgur.com/rhkiopM.png\">"
   ]
  },
  {
   "cell_type": "markdown",
   "metadata": {},
   "source": [
    "Alright, so we have the graph we made before, hopefully by now you feel comfortable dealing with this Graph :). Now we will start looking at a few Property Operators."
   ]
  },
  {
   "cell_type": "markdown",
   "metadata": {},
   "source": [
    "So the first funciton we will be look at is the mapVertices function of the Graph. So one good question is that since the Graph extends RDDs which is immutable, how does it apply the modification? \n",
    "\n",
    "It makes a new Graph. But it's not as simple as just creating a new Graph. GraphX is smart about it's modifications, these operators allow GraphX to reuse parts of the Graph that is unaffected by the modifcation. So if you change one small thing about the graph, it won't go through the same computational time as creating a new one from scratch.\n",
    "\n",
    "So with the mapVertices function, it is similar to how you used a filter function previously. Here's an example."
   ]
  },
  {
   "cell_type": "code",
   "execution_count": 7,
   "metadata": {},
   "outputs": [],
   "source": [
    "val facebook_temp = facebook.mapVertices((id, user_type) => if (id == 1) (\"Billy D. Bill\", \"Person\") else user_type)"
   ]
  },
  {
   "cell_type": "code",
   "execution_count": 8,
   "metadata": {},
   "outputs": [
    {
     "name": "stdout",
     "output_type": "stream",
     "text": [
      "\r",
      "                                                                                \r",
      "(1,(Billy D. Bill,Person))\n",
      "(2,(Jacob Johnson,Person))\n",
      "(3,(Andrew Smith,Person))\n",
      "(4,(Iron Man Fan Page,Page))\n",
      "(5,(Captain America Fan Page,Page))\n"
     ]
    }
   ],
   "source": [
    "for (vertex <- facebook_temp.vertices.collect) {\n",
    "    println(vertex)\n",
    "}"
   ]
  },
  {
   "cell_type": "markdown",
   "metadata": {},
   "source": [
    "Alright so in this example, we used mapVertices and mapped the vertice's attributes to id and user_type (like we did before!). Then since this map function runs through each vertex in the graph, we specified a condition so that nothing other than the vertex we want to modify changes. In this case, Billy Bill wanted to change his name on our 'facebook' so we made the update on the graph using mapVertices. Then we saved it to another variable called facebook_temp to save the changes.\n",
    "\n",
    "Now let's try that again, but it's your turn! Modify the original graph (facebook) and return the graph into a variable called facebook_temp2. We will now change the \"Captain America Fan Page\" to \"Captain America Fan Page is the Best!\".\n",
    "\n",
    "Hint: Try to use the ID to idenify the page!"
   ]
  },
  {
   "cell_type": "code",
   "execution_count": 9,
   "metadata": {
    "collapsed": true
   },
   "outputs": [],
   "source": [
    "val facebook_temp2 = facebook.mapVertices((id, user_type) => if (id == 5) (\"Captain America Fan Page is the Best!\", \"Page\") else user_type)"
   ]
  },
  {
   "cell_type": "markdown",
   "metadata": {},
   "source": [
    "Print to confirm it!!"
   ]
  },
  {
   "cell_type": "code",
   "execution_count": 10,
   "metadata": {},
   "outputs": [
    {
     "name": "stdout",
     "output_type": "stream",
     "text": [
      "(1,(Billy Bill,Person))\n",
      "(2,(Jacob Johnson,Person))\n",
      "(3,(Andrew Smith,Person))\n",
      "(4,(Iron Man Fan Page,Page))\n",
      "(5,(Captain America Fan Page is the Best!,Page))\n"
     ]
    }
   ],
   "source": [
    "for (vertex <- facebook_temp2.vertices.collect) {\n",
    "    println(vertex)\n",
    "}"
   ]
  },
  {
   "cell_type": "markdown",
   "metadata": {},
   "source": [
    "Highlight over the box below for the answer\n",
    "<table width=\"100%\" cellspacing=\"0\" cellpadding=\"0\" border=\"0\" align=\"center\" bgcolor=\"#ff6600\">\n",
    "<td> <font color = \"white\">val facebook_temp2 = facebook.mapVertices((id, user_type) => if (id == 5) (\"Captain America Fan Page is the Best!\", \"Page\") else user_type)</font>\n",
    "</td>\n",
    "</table>"
   ]
  },
  {
   "cell_type": "markdown",
   "metadata": {},
   "source": [
    "Awesome! Look like you're getting the hang of things! Now let's move onto a similar concept called mapEdges. As you may be able to tell, we will be modifying Edge values and attributes!"
   ]
  },
  {
   "cell_type": "markdown",
   "metadata": {},
   "source": [
    "Now we will create use facebook_temp as the variable of our new graph from our original graph facebook. So let's try modifying the relationship of Andrew to a \"Supreme Follower\" of the Iron Man Fan Page. (Remember, it's the original graph, so any changes we made before isn't on this graph.)\n",
    "\n",
    "Hint: After finding the if statement, whatever value you assign will be assigned to the .attr of the edge. (the scrId is helpful)"
   ]
  },
  {
   "cell_type": "code",
   "execution_count": 11,
   "metadata": {},
   "outputs": [],
   "source": [
    "val facebook_temp = facebook.mapEdges((edge) => if (edge.srcId == 3) \"Supreme Follower\" else edge.attr)"
   ]
  },
  {
   "cell_type": "markdown",
   "metadata": {},
   "source": [
    "Highlight over the box below for the answer\n",
    "<table width=\"100%\" cellspacing=\"0\" cellpadding=\"0\" border=\"0\" align=\"center\" bgcolor=\"#ff6600\">\n",
    "<td> <font color = \"white\">val facebook_temp = facebook.mapEdges((edge) => if (edge.srcId == 3) \"Supreme Follower\" else edge.attr)</font>\n",
    "</td>\n",
    "</table>"
   ]
  },
  {
   "cell_type": "markdown",
   "metadata": {},
   "source": [
    "Print to confirm!"
   ]
  },
  {
   "cell_type": "code",
   "execution_count": 12,
   "metadata": {
    "scrolled": true
   },
   "outputs": [
    {
     "name": "stdout",
     "output_type": "stream",
     "text": [
      "Edge(1,2,Friends)\n",
      "Edge(1,3,Friends)\n",
      "Edge(2,4,Follower)\n",
      "Edge(2,5,Follower)\n",
      "Edge(3,5,Supreme Follower)\n"
     ]
    }
   ],
   "source": [
    "for (edges <- facebook_temp.edges.collect) {\n",
    "    println(edges)\n",
    "}"
   ]
  },
  {
   "cell_type": "markdown",
   "metadata": {},
   "source": [
    "Now let's try something a little different. We will change the pural \"Friends\" to \"Friend\" of every edge relation. Save it as facebook_temp2. Then print and confirm the results!"
   ]
  },
  {
   "cell_type": "code",
   "execution_count": 14,
   "metadata": {},
   "outputs": [
    {
     "name": "stdout",
     "output_type": "stream",
     "text": [
      "Edge(1,2,Friend)\n",
      "Edge(1,3,Friend)\n",
      "Edge(2,4,Follower)\n",
      "Edge(2,5,Follower)\n",
      "Edge(3,5,Follower)\n"
     ]
    }
   ],
   "source": [
    "val facebook_temp2 = facebook.mapEdges((edge) => if (edge.attr == \"Friends\") \"Friend\" else edge.attr)\n",
    "for (edges <- facebook_temp2.edges.collect) {\n",
    "    println(edges)\n",
    "}"
   ]
  },
  {
   "cell_type": "markdown",
   "metadata": {},
   "source": [
    "Highlight over the box below for the answer\n",
    "<table width=\"100%\" cellspacing=\"0\" cellpadding=\"0\" border=\"0\" align=\"center\" bgcolor=\"#ff6600\">\n",
    "<td> <font color = \"white\">val facebook_temp2 = facebook.mapEdges((edge) => if (edge.attr == \"Friends\") \"Friend\" else edge.attr)<br>\n",
    "for (edges <- facebook_temp2.edges.collect) {<br>\n",
    "    println(edges)<br>\n",
    "}</font>\n",
    "</td>\n",
    "</table>"
   ]
  },
  {
   "cell_type": "markdown",
   "metadata": {},
   "source": [
    "Awesome! Now, we will want to keep this graph since it is grammatically correct, so once you have the correct graph, we will save it as the new facebook. "
   ]
  },
  {
   "cell_type": "code",
   "execution_count": 15,
   "metadata": {
    "collapsed": true
   },
   "outputs": [],
   "source": [
    "val facebook = facebook_temp2"
   ]
  },
  {
   "cell_type": "markdown",
   "metadata": {},
   "source": [
    "Now we will look at the mapTriplets class! Similar as the last two classes (mapVertices, and mapEdges), this function acts in a similar manner, however it deals with Triplets instead of Vertices and Edges. With this mapTriplets function, the map function is applied to each Triplet class.\n",
    "\n",
    "So similar to the mapEdges function, this class will modify the Edge attribute .attr (but it will be on the triplet this time. One key difference is that by using the mapTriplets function, you will have access to all the attributes of the Triplet class. Therefore, you have more options to where you can specify the conditions.\n",
    "\n",
    "Now lets try making a new variable called facebook_temp3 which will a modified version of facebook by using the mapTriplets function to change the relationship of Billy Bill and Jacob Johnson to \"Best-Friend\". Now, it may be easy to specify one condition, so let's pretend Jacob has more friends, so we want to make sure that you specify Billy Bill and Jacob Johnson in this condition.\n",
    "\n",
    "Also - we will you cannot use vertex ids as an identifier to make you use the triplet class."
   ]
  },
  {
   "cell_type": "code",
   "execution_count": 16,
   "metadata": {},
   "outputs": [],
   "source": [
    "val facebook_temp3 = facebook_temp2.mapTriplets((triplet) => if (triplet.srcAttr._1 == \"Billy Bill\" && triplet.dstAttr._1 == \"Jacob Johnson\") \"Best-Friend\" else triplet.attr)"
   ]
  },
  {
   "cell_type": "markdown",
   "metadata": {},
   "source": [
    "Highlight over the box below for the answer\n",
    "<table width=\"100%\" cellspacing=\"0\" cellpadding=\"0\" border=\"0\" align=\"center\" bgcolor=\"#ff6600\">\n",
    "<td> <font color = \"white\">val facebook_temp3 = facebook_temp2.mapTriplets((triplet) => if (triplet.srcAttr._1 == \"Billy Bill\" && triplet.dstAttr._1 == \"Jacob Johnson\") \"Best-Friend\" else triplet.attr)</font>\n",
    "</td>\n",
    "</table>"
   ]
  },
  {
   "cell_type": "markdown",
   "metadata": {},
   "source": [
    "Use the following print function to confirm your results"
   ]
  },
  {
   "cell_type": "code",
   "execution_count": 17,
   "metadata": {},
   "outputs": [
    {
     "name": "stdout",
     "output_type": "stream",
     "text": [
      "Billy Bill is a Best-Friend of Jacob Johnson\n",
      "Billy Bill is a Friend of Andrew Smith\n",
      "Jacob Johnson is a Follower of Iron Man Fan Page\n",
      "Jacob Johnson is a Follower of Captain America Fan Page\n",
      "Andrew Smith is a Follower of Captain America Fan Page\n"
     ]
    }
   ],
   "source": [
    "for (triplet <- facebook_temp3.triplets.collect) {\n",
    "    print(triplet.srcAttr._1)\n",
    "    print(\" is a \")\n",
    "    print(triplet.attr)\n",
    "    print(\" of \")\n",
    "    println(triplet.dstAttr._1)\n",
    "}"
   ]
  },
  {
   "cell_type": "markdown",
   "metadata": {},
   "source": [
    "So as you might have noticed, by using the following format of for each of the map functions, you get the following changes:\n",
    "\n",
    "mapVertices -> Vertice Attribute <br>\n",
    "mapEdges -> Edge Attribute .attr <br>\n",
    "mapTriplets -> Edge Attribute .attr <br>\n",
    "\n",
    "Since these are property operators, these functions will only modify the property values of each graph. You might have been wondering what if I wanted to change other values such as srcAttr, dstAttr, or even ID. These a good inquiries however, modifying these values would result in a change in the structure of the graph. These functions are meant for modifying property values. We'll take a look a how to handle that later on."
   ]
  },
  {
   "cell_type": "markdown",
   "metadata": {},
   "source": [
    "Now let's take a look a few Structural Operators. The first operator we will look at is the reverse function. The reverse function will take the current graph and reverse all edges in the graph. For example, if we take a look at our original facebook, It shows that Billy Bill is a Friend of Jacob Johnson. After running the reverse function, the relationship should show that Jacob Johnson is a Friend of Billy Bill. Why is this important? Well, for special use cases and more often if we wanted to find the inverse PageRank of a graph.\n",
    "\n",
    "Using the new facebook - facebook_temp, print out a view of the graph and compute facebook's inverse PageRank with a value of 0.l."
   ]
  },
  {
   "cell_type": "code",
   "execution_count": null,
   "metadata": {},
   "outputs": [],
   "source": [
    "val facebook_temp = facebook.reverse"
   ]
  },
  {
   "cell_type": "code",
   "execution_count": 18,
   "metadata": {},
   "outputs": [
    {
     "name": "stdout",
     "output_type": "stream",
     "text": [
      "Billy Bill is a Friends of Jacob Johnson\n",
      "Billy Bill is a Friends of Andrew Smith\n",
      "Jacob Johnson is a Follower of Iron Man Fan Page\n",
      "Jacob Johnson is a Follower of Captain America Fan Page\n",
      "Andrew Smith is a Supreme Follower of Captain America Fan Page\n",
      "Page Rank values --------------\n",
      "(1,0.15)\n",
      "(2,0.21375)\n",
      "(3,0.21375)\n",
      "(4,0.21375)\n",
      "(5,0.34124999999999994)\n"
     ]
    }
   ],
   "source": [
    "for (triplet <- facebook_temp.triplets.collect) {\n",
    "    print(triplet.srcAttr._1)\n",
    "    print(\" is a \")\n",
    "    print(triplet.attr)\n",
    "    print(\" of \")\n",
    "    println(triplet.dstAttr._1)\n",
    "}\n",
    "println(\"Page Rank values --------------\")\n",
    "for (rankee <- facebook_temp.pageRank(0.1).vertices.collect) {\n",
    "    println(rankee)\n",
    "}"
   ]
  },
  {
   "cell_type": "markdown",
   "metadata": {},
   "source": [
    "\n",
    "Highlight over the box below for the answer\n",
    "<table width=\"100%\" cellspacing=\"0\" cellpadding=\"0\" border=\"0\" align=\"center\" bgcolor=\"#ff6600\">\n",
    "<td> <font color = \"white\">for (triplet <- facebook_temp.triplets.collect) {<br>\n",
    "print(triplet.srcAttr._1)<br>\n",
    "print(\" is a \")<br>\n",
    "print(triplet.attr)<br>\n",
    "print(\" of \")<br>\n",
    "println(triplet.dstAttr._1)<br>\n",
    "}<br>\n",
    "println(\"Page Rank values --------------\")<br>\n",
    "for (rankee <- facebook_temp.pageRank(0.1).vertices.collect) {<br>\n",
    "    println(rankee)<br>\n",
    "}</font>\n",
    "</td>\n",
    "</table>"
   ]
  },
  {
   "cell_type": "markdown",
   "metadata": {},
   "source": [
    "Awesome! Interesting function right? Now let's look at the next one: SubGraph.\n",
    "\n",
    "SubGraph is an Operator that takes in a edge and vertex predicate and returns a graph that only contains vertices that satisify the vertex predicate, edges that satisfy the edge predicate, and connect the vertices that satisfy the vertex predicate. This returned graph will be a \"Subgraph\" of our original graph, contains only the edges and vertices that pass through our predicate filters.\n",
    "\n",
    "When calling the subgraph function, you define vpred (vertex predicate) and epred (edgetriplet predicate) in the parameter field. If you do not define a predicate, it will default to true.\n",
    "\n",
    "When defining the predicate, we can format it similarly to how we defined cases (variables to the general vertex and/or edgetriplet). This will make defining a boolean case very simple!"
   ]
  },
  {
   "cell_type": "markdown",
   "metadata": {},
   "source": [
    "Now let's use our original facebook variable, and try to create a subgraph called facebook_subgraph that will contain only People aka - no Pages!"
   ]
  },
  {
   "cell_type": "code",
   "execution_count": 19,
   "metadata": {},
   "outputs": [],
   "source": [
    "val facebook_subgraph = facebook.subgraph(vpred = (id, user_type) => user_type._2 == \"Person\")"
   ]
  },
  {
   "cell_type": "markdown",
   "metadata": {},
   "source": [
    "Highlight over the box below for the answer\n",
    "<table width=\"100%\" cellspacing=\"0\" cellpadding=\"0\" border=\"0\" align=\"center\" bgcolor=\"#ff6600\">\n",
    "<td> <font color = \"white\">val facebook_subgraph = facebook.subgraph(vpred = (id, user_type) => user_type._2 == \"Person\")</font>\n",
    "</td>\n",
    "</table>"
   ]
  },
  {
   "cell_type": "markdown",
   "metadata": {},
   "source": [
    "Use the following to confirm your results!"
   ]
  },
  {
   "cell_type": "code",
   "execution_count": 20,
   "metadata": {},
   "outputs": [
    {
     "name": "stdout",
     "output_type": "stream",
     "text": [
      "Billy Bill is a Friend of Jacob Johnson\n",
      "Billy Bill is a Friend of Andrew Smith\n"
     ]
    }
   ],
   "source": [
    "for (triplet <- facebook_subgraph.triplets.collect) {\n",
    "    print(triplet.srcAttr._1)\n",
    "    print(\" is a \")\n",
    "    print(triplet.attr)\n",
    "    print(\" of \")\n",
    "    println(triplet.dstAttr._1)\n",
    "}"
   ]
  },
  {
   "cell_type": "markdown",
   "metadata": {},
   "source": [
    "Awesome! Now note how we only have \"People\" in our graph. And any relationship (or edge) that contained a \"Page\" (or not a \"Person\") it was not included. This is important to note since it might not be clear if an edge would remain on the new graph.\n",
    "\n",
    "Now let's try to using the subgraph function again, but only specify relationships (or edges) that are \"Followers\". This time, use the subgraph function, and confirm your results without defining a variable!"
   ]
  },
  {
   "cell_type": "code",
   "execution_count": 21,
   "metadata": {
    "scrolled": true
   },
   "outputs": [
    {
     "name": "stdout",
     "output_type": "stream",
     "text": [
      "Jacob Johnson is a Follower of Iron Man Fan Page\n",
      "Jacob Johnson is a Follower of Captain America Fan Page\n",
      "Andrew Smith is a Follower of Captain America Fan Page\n"
     ]
    }
   ],
   "source": [
    "for (triplet <- facebook.subgraph(epred = (edgetriplet) => edgetriplet.attr == \"Follower\").triplets.collect) {\n",
    "    print(triplet.srcAttr._1)\n",
    "    print(\" is a \")\n",
    "    print(triplet.attr)\n",
    "    print(\" of \")\n",
    "    println(triplet.dstAttr._1)\n",
    "}"
   ]
  },
  {
   "cell_type": "markdown",
   "metadata": {},
   "source": [
    "Highlight over the box below for the answer\n",
    "<table width=\"100%\" cellspacing=\"0\" cellpadding=\"0\" border=\"0\" align=\"center\" bgcolor=\"#ff6600\">\n",
    "<td> <font color = \"white\">for (triplet <- facebook.subgraph(epred = (edgetriplet) => edgetriplet.attr == \"Follower\").triplets.collect) {<br>\n",
    "    print(triplet.srcAttr._1)<br>\n",
    "    print(\" is a \")<br>\n",
    "    print(triplet.attr)<br>\n",
    "    print(\" of \")<br>\n",
    "    println(triplet.dstAttr._1)<br>\n",
    "}</font>\n",
    "</td>\n",
    "</table>"
   ]
  },
  {
   "cell_type": "markdown",
   "metadata": {},
   "source": [
    "Awesome! The subgraph function can be very useful! You can use it to eliminate any unwanted relationships in your graph and it can be very helpful in concentrating your information. You can also range how specific your search is by using vpred, epred, or both."
   ]
  },
  {
   "cell_type": "markdown",
   "metadata": {},
   "source": [
    "The next Operator we will be looking at is the mask function. The mask function takes in a graph and return a subgraph that contains the vertices and edges that are also found in the input graph. This is a peculiar function, which is used in special situations such as trying to find a subgraph that is related or not related to a certain graph. So we'll just touch a bit into this operator.\n",
    "\n",
    "A quick example of this is by taking our facebook graph and running the mask function with facebook_subgraph as a parameter. What do you think will happen? Print and confirm the results without saving a variable for it!"
   ]
  },
  {
   "cell_type": "code",
   "execution_count": 22,
   "metadata": {},
   "outputs": [
    {
     "name": "stdout",
     "output_type": "stream",
     "text": [
      "Billy Bill is a Friend of Jacob Johnson\n",
      "Billy Bill is a Friend of Andrew Smith\n"
     ]
    }
   ],
   "source": [
    "for (triplet <- facebook.mask(facebook_subgraph).triplets.collect) {\n",
    "    print(triplet.srcAttr._1)\n",
    "    print(\" is a \")\n",
    "    print(triplet.attr)\n",
    "    print(\" of \")\n",
    "    println(triplet.dstAttr._1)\n",
    "}"
   ]
  },
  {
   "cell_type": "markdown",
   "metadata": {},
   "source": [
    "Highlight over the box below for the answer\n",
    "<table width=\"100%\" cellspacing=\"0\" cellpadding=\"0\" border=\"0\" align=\"center\" bgcolor=\"#ff6600\">\n",
    "<td> <font color = \"white\">for (triplet <- facebook.mask(facebook_subgraph).triplets.collect) {<br>\n",
    "print(triplet.srcAttr._1)<br>\n",
    "print(\" is a \")<br>\n",
    "print(triplet.attr)<br>\n",
    "print(\" of \")<br>\n",
    "println(triplet.dstAttr._1)<br>\n",
    "}</font>\n",
    "</td>\n",
    "</table>"
   ]
  },
  {
   "cell_type": "markdown",
   "metadata": {},
   "source": [
    "It's the exact same as facebook_subgraph! That's to be expected since we derived facebook_subgraph from facebook. With the current graphs we have modified so far, we won't be expecting any surprising results since they were also derived from facebook with any major changes. \n",
    "\n",
    "So for now, just note that the mask function is to be used in situations where you have two premade graphs you want to compare with, if you only have one, the subgraph function is the way to go! But don't worry, we'll visit the mask function again once we make another graph!\n",
    "\n",
    "The next Structual Operator we will be looking at is the groupEdges function. This function is particularly useful for graph that have repeating or similar relationships (edges) between vertices. It will merge multiple edges that are similar together!"
   ]
  },
  {
   "cell_type": "markdown",
   "metadata": {},
   "source": [
    "For example, given the following graph:"
   ]
  },
  {
   "cell_type": "code",
   "execution_count": 23,
   "metadata": {},
   "outputs": [
    {
     "name": "stdout",
     "output_type": "stream",
     "text": [
      "Billy Bill is Friends with Jacob Johnson\n",
      "Billy Bill is Friends with Andrew Smith\n",
      "Billy Bill is Friends with Andrew Smith\n"
     ]
    }
   ],
   "source": [
    "val vertexRDD2: RDD[(Long, (String, String))] = sc.parallelize(Array((1L, (\"Billy Bill\", \"Person\")), (2L, (\"Jacob Johnson\", \"Person\")), (3L, (\"Andrew Smith\", \"Person\"))))\n",
    "val edgeRDD2: RDD[Edge[String]] = sc.parallelize(Array(Edge(1L, 2L, \"Friends\"), Edge(1L, 3L, \"Friends\"), Edge(1L, 3L, \"Friends\")))\n",
    "var simple_facebook = Graph(vertexRDD2, edgeRDD2, defaultvertex)\n",
    "\n",
    "for (triplet <- simple_facebook.triplets.collect) {\n",
    "    print(triplet.srcAttr._1)\n",
    "    print(\" is \")\n",
    "    print(triplet.attr)\n",
    "    print(\" with \")\n",
    "    println(triplet.dstAttr._1)\n",
    "}"
   ]
  },
  {
   "cell_type": "markdown",
   "metadata": {},
   "source": [
    "So in this simple_facebook it is made up of just our three friends we seen earlier:\n",
    "\n",
    "-Billy Bill<br>\n",
    "-Jacob Johnson<br>\n",
    "-Andrew Smith<br>\n",
    "\n",
    "However, there is an addition relationship present. It is the same relationship between Billy Bill and Andrew Smith. Now, in our new graph, this is a repetitive relationship that we want to avoid in our graph since it takes additional space and is not needed.\n",
    "\n",
    "Now before we try running the groupEdges function on simple_facebook, we will need to use the partitionBy function on simple_facebook with the parameter PartitionStrategy.EdgePartition1D. This will partition the graph so that it can be represented in a distributed scheme. This is needed before groupEdges can run to produce the correct result.\n",
    "\n",
    "Let's run the partitionBy function with the above details and save it as simple_facebook_partitioned."
   ]
  },
  {
   "cell_type": "code",
   "execution_count": 24,
   "metadata": {
    "scrolled": true
   },
   "outputs": [],
   "source": [
    "val simple_facebook_partitioned = simple_facebook.partitionBy(PartitionStrategy.EdgePartition1D)"
   ]
  },
  {
   "cell_type": "markdown",
   "metadata": {},
   "source": [
    "Highlight over the box below for the answer\n",
    "<table width=\"100%\" cellspacing=\"0\" cellpadding=\"0\" border=\"0\" align=\"center\" bgcolor=\"#ff6600\">\n",
    "<td> <font color = \"white\">val simple_facebook_partitioned = simple_facebook.partitionBy(PartitionStrategy.EdgePartition1D)</font>\n",
    "</td>\n",
    "</table>"
   ]
  },
  {
   "cell_type": "markdown",
   "metadata": {},
   "source": [
    "Alright! Just for addition info, there are more PartitionStrategies:\n",
    "\n",
    "- CanonicalRandomVertexCut\n",
    "- EdgePartition1D\n",
    "- EdgePartition2D\n",
    "- RandomVertexCut\n",
    "\n",
    "We used Edge Partition1D because it is simple. For more information please check out http://spark.apache.org/docs/latest/api/scala/index.html#org.apache.spark.graphx.PartitionStrategy"
   ]
  },
  {
   "cell_type": "markdown",
   "metadata": {},
   "source": [
    "Now let's create a new variable called new_simple_facebook. We will use the groupEdges function on simple_facebook_partitioned. Now, groupEdges takes in a parameter called merge. It is similar to what we looked at before, but not exactly.\n",
    "\n",
    "Similar to before, we have to define two variables in a tuple equal to merge. These two variables are similar to when you defined variables when you used \"case\". The two variables (let's called edge1 and edge2) represents the edge's attributes that are both connected to the same vertices (same direction). In this case, we will use the => and pick only one of the variables (lets say edge1).\n",
    "\n",
    "That may be a lot to take in. Let's quickly review what you need to do. Create a new variable called new_simple_facebook that is the groupEdges function ran on simple_facebook_partitioned with the parameter merge equal to edge1 and edge2 (respresenting the edge's attribute) and only selecting edge1."
   ]
  },
  {
   "cell_type": "code",
   "execution_count": 26,
   "metadata": {},
   "outputs": [],
   "source": [
    "val new_simple_facebook = simple_facebook_partitioned.groupEdges(merge = (edge1, edge2) => edge1)"
   ]
  },
  {
   "cell_type": "markdown",
   "metadata": {},
   "source": [
    "Highlight over the box below for the answer\n",
    "<table width=\"100%\" cellspacing=\"0\" cellpadding=\"0\" border=\"0\" align=\"center\" bgcolor=\"#ff6600\">\n",
    "<td> <font color = \"white\">val new_simple_facebook = simple_facebook_partitioned.groupEdges(merge = (edge1, edge2) => edge1)</font>\n",
    "</td>\n",
    "</table>"
   ]
  },
  {
   "cell_type": "markdown",
   "metadata": {},
   "source": [
    "Now create a view of new_simple_facebook and see what you obsserve."
   ]
  },
  {
   "cell_type": "code",
   "execution_count": 27,
   "metadata": {},
   "outputs": [
    {
     "name": "stdout",
     "output_type": "stream",
     "text": [
      "Billy Bill is Friends with Jacob Johnson\n",
      "Billy Bill is Friends with Andrew Smith\n"
     ]
    }
   ],
   "source": [
    "for (triplet <- new_simple_facebook.triplets.collect) {\n",
    "    print(triplet.srcAttr._1)\n",
    "    print(\" is \")\n",
    "    print(triplet.attr)\n",
    "    print(\" with \")\n",
    "    println(triplet.dstAttr._1)\n",
    "}"
   ]
  },
  {
   "cell_type": "markdown",
   "metadata": {},
   "source": [
    "Highlight over the box below for the answer\n",
    "<table width=\"100%\" cellspacing=\"0\" cellpadding=\"0\" border=\"0\" align=\"center\" bgcolor=\"#ff6600\">\n",
    "<td> <font color = \"white\">for (triplet <- new_simple_facebook.triplets.collect) {<br>\n",
    "print(triplet.srcAttr._1)<br>\n",
    "print(\" is \")<br>\n",
    "print(triplet.attr)<br>\n",
    "print(\" with \")<br>\n",
    "println(triplet.dstAttr._1)<br>\n",
    "}</font>\n",
    "</td>\n",
    "</table>"
   ]
  },
  {
   "cell_type": "markdown",
   "metadata": {},
   "source": [
    "So we only have two edges left! It eliminated the extra relationship in our graph. So groupEdges can be important to eliminate repetitive relationships like the one in our graph. It can also be used for other purposes, such as if the relationship had a numeric nature, then we can define it as commutative associative function such as sum or divide. GroupEdges is very important, but make sure you run partitionBy beforehand to obtain the correct results!"
   ]
  },
  {
   "cell_type": "markdown",
   "metadata": {},
   "source": [
    "Alright! So we have looked at a few new operators. Let's create a new graph and modify with some new skills that you have learned!\n",
    "\n",
    "The new graph will have the following Vertices: (Person)\n",
    "\n",
    "- Billy Bill -> VertexId = 1\n",
    "- Jacob Johnson -> VertexId = 2\n",
    "- Stan Smith -> VertexId = 3\n",
    "- Homer Simpson -> VertexId = 4\n",
    "- Clark Kent -> VertexId = 5\n",
    "- James Smith -> VertexId = 6\n",
    "\n",
    "and the following Edges:\n",
    "\n",
    "- Jacob Johnson is Friends with Billy Bill\n",
    "- Jacob Johnson is Friends with Clark Kent\n",
    "- Stan Smith is Friends with Billy Bill\n",
    "- Stan Smith is Friends with Homer Simpson\n",
    "- Stan Smith is Friends with Clark Kent\n",
    "- Stan Smith is Friends with James Smith\n",
    "- Homer Simpson is Friends with James Smith\n",
    "- Clark Kent is Friends with Billy Bill\n",
    "- Clark Kent is Friends with Billy Bill\n",
    "- Clark Kent is Friends with James Smith\n",
    "- James Smith is Friends with Bruce Lee (VertexId = 7)\n",
    "\n",
    "and with the same default vertex of \"Self\", \"Missing\".\n",
    "\n",
    "Note: We will be using the same variables as our first graph, however if there are any changes, please add a number 2 so the original variable is not overwritten. For example: vertexRDD would become vertexRDD2."
   ]
  },
  {
   "cell_type": "code",
   "execution_count": 29,
   "metadata": {},
   "outputs": [],
   "source": [
    "val vertexRDD2: RDD[(Long, (String, String))] = sc.parallelize(Array((1L, (\"Billy Bill\", \"Person\")), (2L, (\"Jacob Johnson\", \"Person\")), (3L, (\"Stan Smith\", \"Person\")), (4L, (\"Homer Simpson\", \"Person\")), (5L, (\"Clark Kent\", \"Person\")), (6L, (\"James Smith\", \"Person\"))))\n",
    "val edgeRDD2: RDD[Edge[String]] = sc.parallelize(Array(Edge(2L, 1L, \"Friends\"), Edge(2L, 5L, \"Friends\"), Edge(3L, 1L, \"Friends\"), Edge(3L, 4L, \"Friends\"), Edge(3L, 5L, \"Friends\"), Edge(3L, 6L, \"Friends\"), Edge(4L, 6L, \"Friends\"), Edge(5L, 1L, \"Friends\"), Edge(5L, 1L, \"Friends\"), Edge(5L, 6L, \"Friends\"), Edge(6L, 7L, \"Friends\")))\n",
    "var defaultvertex = (\"Self\", \"Missing\")\n",
    "var facebook2 = Graph(vertexRDD2, edgeRDD2, defaultvertex)"
   ]
  },
  {
   "cell_type": "markdown",
   "metadata": {},
   "source": [
    "Highlight over the box below for the answer\n",
    "<table width=\"100%\" cellspacing=\"0\" cellpadding=\"0\" border=\"0\" align=\"center\" bgcolor=\"#ff6600\">\n",
    "<td> <font color = \"white\">val vertexRDD2: RDD[(Long, (String, String))] = sc.parallelize(Array((1L, (\"Billy Bill\", \"Person\")), (2L, (\"Jacob Johnson\", \"Person\")), (3L, (\"Stan Smith\", \"Person\")), (4L, (\"Homer Simpson\", \"Person\")), (5L, (\"Clark Kent\", \"Person\")), (6L, (\"James Smith\", \"Person\"))))<br>\n",
    "val edgeRDD2: RDD[Edge[String]] = sc.parallelize(Array(Edge(2L, 1L, \"Friends\"), Edge(2L, 5L, \"Friends\"), Edge(3L, 1L, \"Friends\"), Edge(3L, 4L, \"Friends\"), Edge(3L, 5L, \"Friends\"), Edge(3L, 6L, \"Friends\"), Edge(4L, 6L, \"Friends\"), Edge(5L, 1L, \"Friends\"), Edge(5L, 1L, \"Friends\"), Edge(5L, 6L, \"Friends\"), Edge(6L, 7L, \"Friends\")))<br>\n",
    "var defaultvertex = (\"Self\", \"Missing\")<br>\n",
    "var facebook2 = Graph(vertexRDD2, edgeRDD2, defaultvertex)</font>\n",
    "</td>\n",
    "</table>"
   ]
  },
  {
   "cell_type": "markdown",
   "metadata": {},
   "source": [
    "Print to confirm!"
   ]
  },
  {
   "cell_type": "code",
   "execution_count": 30,
   "metadata": {},
   "outputs": [
    {
     "name": "stdout",
     "output_type": "stream",
     "text": [
      "\r",
      "                                                                                \r",
      "Jacob Johnson is Friends with Billy Bill\n",
      "Jacob Johnson is Friends with Clark Kent\n",
      "Stan Smith is Friends with Billy Bill\n",
      "Stan Smith is Friends with Homer Simpson\n",
      "Stan Smith is Friends with Clark Kent\n",
      "Stan Smith is Friends with James Smith\n",
      "Homer Simpson is Friends with James Smith\n",
      "Clark Kent is Friends with Billy Bill\n",
      "Clark Kent is Friends with Billy Bill\n",
      "Clark Kent is Friends with James Smith\n",
      "James Smith is Friends with Self\n"
     ]
    }
   ],
   "source": [
    "for (triplet <- facebook2.triplets.collect) {\n",
    "    print(triplet.srcAttr._1)\n",
    "    print(\" is \")\n",
    "    print(triplet.attr)\n",
    "    print(\" with \")\n",
    "    println(triplet.dstAttr._1)\n",
    "}"
   ]
  },
  {
   "cell_type": "markdown",
   "metadata": {},
   "source": [
    "Now I'm sure you have noticed some flaws in our new graph. We will fix this next lab as a quick review of the Operators we have learned here! Just make sure all the relationships are present and try to figure out how we can fix this graph with the Operators you have learned!\n",
    "\n",
    "(Note: James Smith will be Friends with Self instead of Bruce Lee)."
   ]
  }
 ],
 "metadata": {
  "kernelspec": {
   "display_name": "Apache Toree - Scala",
   "language": "scala",
   "name": "apache_toree_scala"
  },
  "language_info": {
   "name": "scala",
   "version": "2.10.4"
  }
 },
 "nbformat": 4,
 "nbformat_minor": 1
}
