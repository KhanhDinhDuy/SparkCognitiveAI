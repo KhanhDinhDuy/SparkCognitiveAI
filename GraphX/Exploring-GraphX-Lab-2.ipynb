{
 "cells": [
  {
   "cell_type": "markdown",
   "metadata": {},
   "source": [
    "# <center>Exploring GraphX</center>\n",
    "## <center>Visualizing GraphX and Exploring Graph Operators</center>\n",
    "### <center>July 20, 2016</center>"
   ]
  },
  {
   "cell_type": "markdown",
   "metadata": {},
   "source": [
    "<img src = \"http://spark.apache.org/docs/latest/img/graphx_logo.png\", width = 600, align = 'centre'>"
   ]
  },
  {
   "cell_type": "markdown",
   "metadata": {},
   "source": [
    "## Welcome to the second lab in the course, Exploring GraphX.\n",
    "\n",
    "### GraphX is Apache Spark's API for graph and graph-parallel computations.\n",
    "\n",
    "In the last exercise, you looked at an introduction to GraphX, specifically how to create the components that make up a Graph. Then fully create a Graph given the information of the vertices and edges. In this lab, you will get more practice constructing a GraphX, extracting information using Graph Operators, and look at visualization of the Graph."
   ]
  },
  {
   "cell_type": "markdown",
   "metadata": {},
   "source": [
    "### Some Notebook Commands\n",
    "#### In case you haven't dealt with a Jupyter Notebook before, here are some quick, useful commands that may be handy to get started.\n",
    "<ul>\n",
    "    <li>Run a cell: CTRL + ENTER</li>\n",
    "    <li>Create a cell above a cell: a</li>\n",
    "    <li>Create a cell below a cell: b</li>\n",
    "    <li>Change a cell to Markdown: m</li>\n",
    "    \n",
    "    <li>Change a cell to code: y</li>\n",
    "</ul>\n",
    "\n",
    "<b> If you are interested in more keyboard shortcuts, go to Help -> Keyboard Shortcuts </b>"
   ]
  },
  {
   "cell_type": "markdown",
   "metadata": {
    "collapsed": true
   },
   "source": [
    "So in the last exercise, you looked at creating our simple recreation of \"facebook\". You were given most of the code, so let's go ahead and recreate the same graph with a little less help and a bit more intitution!"
   ]
  },
  {
   "cell_type": "markdown",
   "metadata": {},
   "source": [
    "First we will import the following libraries:\n",
    "\n",
    "- org.apache.spark._ \n",
    "- org.apache.spark.graphx._\n",
    "- org.apache.spark.rdd.RDD "
   ]
  },
  {
   "cell_type": "code",
   "execution_count": 21,
   "metadata": {
    "collapsed": true
   },
   "outputs": [],
   "source": [
    "import org.apache.spark._\n",
    "import org.apache.spark.graphx._\n",
    "import org.apache.spark.rdd.RDD"
   ]
  },
  {
   "cell_type": "markdown",
   "metadata": {},
   "source": [
    "Highlight over the box below for the answer\n",
    "<table width=\"100%\" cellspacing=\"0\" cellpadding=\"0\" border=\"0\" align=\"center\" bgcolor=\"#ff6600\">\n",
    "<td> <font color = \"white\">import org.apache.spark.&#95;<br>\n",
    "import org.apache.spark.graphx.&#95;<br>\n",
    "import org.apache.spark.rdd.RDD</font>\n",
    "</td>\n",
    "</table>"
   ]
  },
  {
   "cell_type": "markdown",
   "metadata": {},
   "source": [
    "In our \"facebook\" graph we created we had the following People:\n",
    "\n",
    "- Billy Bill -> VertexId = 1\n",
    "- Jacob Johnson -> VertexId = 2\n",
    "- Andrew Smith -> VertexId = 3\n",
    "\n",
    "and 2 Pages:\n",
    "\n",
    "- Iron Man Fan Page -> VertexId = 4\n",
    "- Captain America Fan Page -> VertexId = 5\n",
    "\n",
    "And we are going to create the vertices in one step! This will be tied to the variable called vertexRDD\n",
    "\n",
    "Hint: The type is RDD[(Long, (String, String))]"
   ]
  },
  {
   "cell_type": "code",
   "execution_count": 22,
   "metadata": {
    "collapsed": true
   },
   "outputs": [],
   "source": [
    "val vertexRDD: RDD[(Long, (String, String))] = sc.parallelize(Array((1L, (\"Billy Bill\", \"Person\")), (2L, (\"Jacob Johnson\", \"Person\")), (3L, (\"Andrew Smith\", \"Person\")), (4L, (\"Iron Man Fan Page\", \"Page\")), (5L, (\"Captain America Fan Page\", \"Page\"))))"
   ]
  },
  {
   "cell_type": "markdown",
   "metadata": {},
   "source": [
    "Highlight over the box below for the answer\n",
    "<table width=\"100%\" cellspacing=\"0\" cellpadding=\"0\" border=\"0\" align=\"center\" bgcolor=\"#ff6600\">\n",
    "<td> <font color = \"white\">val vertexRDD: RDD[(Long, (String, String))] = sc.parallelize(Array((1L, (\"Billy Bill\", \"Person\")), (2L, (\"Jacob Johnson\", \"Person\")), (3L, (\"Andrew Smith\", \"Person\")), (4L, (\"Iron Man Fan Page\", \"Page\")), (5L, (\"Captain America Fan Page\", \"Page\"))))</font>\n",
    "</td>\n",
    "</table>"
   ]
  },
  {
   "cell_type": "markdown",
   "metadata": {},
   "source": [
    "Awesome! Now let's create the same relationships in one step too:\n",
    "\n",
    "- Billy is Friends with Jacob\n",
    "- Billy is Friends with Andrew\n",
    "- Jacob is a Follower of the Iron Man Fan Page\n",
    "- Jacob is a Follower of the the Captain America Fan Page\n",
    "- Andrew is a Follower of the the Captain America Fan Page\n",
    "\n",
    "This edge will be called edgeRDD.\n",
    "\n",
    "Hint: The Type is RDD[Edge[String]]"
   ]
  },
  {
   "cell_type": "code",
   "execution_count": 23,
   "metadata": {
    "collapsed": false
   },
   "outputs": [],
   "source": [
    "val edgeRDD: RDD[Edge[String]] = sc.parallelize(Array(Edge(1L, 2L, \"Friends\"), Edge(1L, 3L, \"Friends\"), Edge(2L, 4L, \"Follower\"), Edge(2L, 5L, \"Follower\"), Edge(3L, 5L, \"Follower\")))"
   ]
  },
  {
   "cell_type": "markdown",
   "metadata": {},
   "source": [
    "Highlight over the box below for the answer\n",
    "<table width=\"100%\" cellspacing=\"0\" cellpadding=\"0\" border=\"0\" align=\"center\" bgcolor=\"#ff6600\">\n",
    "<td> <font color = \"white\">val edgeRDD: RDD[Edge[String]] = sc.parallelize(Array(Edge(1L, 2L, \"Friends\"), Edge(1L, 3L, \"Friends\"), Edge(2L, 4L, \"Follower\"), Edge(2L, 5L, \"Follower\"), Edge(3L, 5L, \"Follower\")))</font>\n",
    "</td>\n",
    "</table>"
   ]
  },
  {
   "cell_type": "markdown",
   "metadata": {},
   "source": [
    "Now let's create the a variable called defaultvertex which will be the \"fallback\" for any edges that cannot connect to a vertex. It is only a tuple which contains \"Self\" and \"Missing\""
   ]
  },
  {
   "cell_type": "code",
   "execution_count": 24,
   "metadata": {
    "collapsed": true
   },
   "outputs": [],
   "source": [
    "var defaultvertex = (\"Self\", \"Missing\")"
   ]
  },
  {
   "cell_type": "markdown",
   "metadata": {},
   "source": [
    "Highlight over the box below for the answer\n",
    "<table width=\"100%\" cellspacing=\"0\" cellpadding=\"0\" border=\"0\" align=\"center\" bgcolor=\"#ff6600\">\n",
    "<td> <font color = \"white\">var defaultvertex = (\"Self\", \"Missing\")</font>\n",
    "</td>\n",
    "</table>"
   ]
  },
  {
   "cell_type": "markdown",
   "metadata": {},
   "source": [
    "Alright, now let's go ahead and construct the Graph! We will name it facebook again!"
   ]
  },
  {
   "cell_type": "code",
   "execution_count": 25,
   "metadata": {
    "collapsed": false
   },
   "outputs": [],
   "source": [
    "var facebook = Graph(vertexRDD, edgeRDD, defaultvertex)"
   ]
  },
  {
   "cell_type": "markdown",
   "metadata": {},
   "source": [
    "Highlight over the box below for the answer\n",
    "<table width=\"100%\" cellspacing=\"0\" cellpadding=\"0\" border=\"0\" align=\"center\" bgcolor=\"#ff6600\">\n",
    "<td> <font color = \"white\">var facebook = Graph(vertexRDD, edgeRDD, defaultvertex)</font>\n",
    "</td>\n",
    "</table>"
   ]
  },
  {
   "cell_type": "markdown",
   "metadata": {},
   "source": [
    "Perfect! Here's a reminder of the visualized Graph:\n",
    "\n",
    "<img src = \"http://i.imgur.com/rhkiopM.png\">"
   ]
  },
  {
   "cell_type": "markdown",
   "metadata": {},
   "source": [
    "Alright so now we will take a look at the few of the Graph Operators! These Graph Operators are called by using the Graph \"facebook\" variable we created. You use them by calling them on the Graph variable or \"facebook\" in our case. Let's try to extract how many vertices there are in this graph by using numVertices function."
   ]
  },
  {
   "cell_type": "code",
   "execution_count": 26,
   "metadata": {
    "collapsed": false
   },
   "outputs": [
    {
     "data": {
      "text/plain": [
       "5"
      ]
     },
     "execution_count": 26,
     "metadata": {},
     "output_type": "execute_result"
    }
   ],
   "source": [
    "facebook.numVertices"
   ]
  },
  {
   "cell_type": "markdown",
   "metadata": {},
   "source": [
    "Highlight over the box below for the answer\n",
    "<table width=\"100%\" cellspacing=\"0\" cellpadding=\"0\" border=\"0\" align=\"center\" bgcolor=\"#ff6600\">\n",
    "<td> <font color = \"white\">facebook.numVertices</font>\n",
    "</td>\n",
    "</table>"
   ]
  },
  {
   "cell_type": "markdown",
   "metadata": {},
   "source": [
    "Sweet! Now let's find out the number of edges using numEdges function."
   ]
  },
  {
   "cell_type": "code",
   "execution_count": 27,
   "metadata": {
    "collapsed": false
   },
   "outputs": [
    {
     "data": {
      "text/plain": [
       "5"
      ]
     },
     "execution_count": 27,
     "metadata": {},
     "output_type": "execute_result"
    }
   ],
   "source": [
    "facebook.numEdges"
   ]
  },
  {
   "cell_type": "markdown",
   "metadata": {},
   "source": [
    "Highlight over the box below for the answer\n",
    "<table width=\"100%\" cellspacing=\"0\" cellpadding=\"0\" border=\"0\" align=\"center\" bgcolor=\"#ff6600\">\n",
    "<td> <font color = \"white\">facebook.numEdges</font>\n",
    "</td>\n",
    "</table>"
   ]
  },
  {
   "cell_type": "markdown",
   "metadata": {},
   "source": [
    "Ironically, they are both the same. So make sure you didn't just use the same function both times! Haha.\n",
    "\n",
    "Now the next Operator we will look at involve degrees. In this case we are talking about degrees as the number of edges a vertex touches! The Edges in a multi-directional graph have a direction. As you can see, sometimes it can be mutual such as:\n",
    "\n",
    "-> Billy is a Friend of Andrew. \n",
    "\n",
    "-> Andrew is a Friend of Billy.\n",
    "\n",
    "However there are cases where the edge or \"relationship\" is not mutual. This is such as:\n",
    "\n",
    "-> Jacob is a Follower of the Captain America Fan Page.\n",
    "\n",
    "-> Captain America Fan Page is a Follower of Jacob.\n",
    "\n",
    "So, if we are looking at a specific vertex, we can determine the edges that point \"out\" with the function outDegrees. However, the question is... How do we find a specific vertex? We use the filter function like we did in the last exercise!\n",
    "\n",
    "We can use the filter function on the outDegrees function of facebook and select the case where the id is the number or numbers we want.\n",
    "\n",
    "Let's find Billy's outDegree information by filtering it with a id of 1 and using the collect function afterwards. Let's save it as Billy_outDegree.\n",
    "\n",
    "Note: The case we will need is case(id, outdegree), as the id of the person is the first parameter and the outdegree number is the second parameter."
   ]
  },
  {
   "cell_type": "code",
   "execution_count": 28,
   "metadata": {
    "collapsed": false
   },
   "outputs": [],
   "source": [
    "var Billy_outDegree = facebook.outDegrees.filter{ case(id, outdegree) => id == 1}.collect"
   ]
  },
  {
   "cell_type": "markdown",
   "metadata": {},
   "source": [
    "Highlight over the box below for the answer\n",
    "<table width=\"100%\" cellspacing=\"0\" cellpadding=\"0\" border=\"0\" align=\"center\" bgcolor=\"#ff6600\">\n",
    "<td> <font color = \"white\">var Billy_outDegree = facebook.outDegrees.filter{ case(id, outdegree) => id == 1}.collect</font>\n",
    "</td>\n",
    "</table>"
   ]
  },
  {
   "cell_type": "markdown",
   "metadata": {},
   "source": [
    "Awesome! Now let's go ahead print out Billy_outDegree. However, we will need to index it using () brackets instead of [] brackets. The index should be 0."
   ]
  },
  {
   "cell_type": "code",
   "execution_count": 29,
   "metadata": {
    "collapsed": false,
    "scrolled": true
   },
   "outputs": [
    {
     "name": "stdout",
     "output_type": "stream",
     "text": [
      "(1,2)"
     ]
    }
   ],
   "source": [
    "print(Billy_outDegree(0))"
   ]
  },
  {
   "cell_type": "markdown",
   "metadata": {},
   "source": [
    "Highlight over the box below for the answer\n",
    "<table width=\"100%\" cellspacing=\"0\" cellpadding=\"0\" border=\"0\" align=\"center\" bgcolor=\"#ff6600\">\n",
    "<td> <font color = \"white\">print(Billy_outDegree(0))</font>\n",
    "</td>\n",
    "</table>"
   ]
  },
  {
   "cell_type": "markdown",
   "metadata": {},
   "source": [
    "So the result should contain the id (first parameter) and the outDegree of that parameter in the second index. Therefore the outDegree of Billy is 2.\n",
    "\n",
    "Now let's do the same for Billy but lets find it's inDegree. We use Billy_inDegree as the variable. Then print the first index of Billy_inDegree like before"
   ]
  },
  {
   "cell_type": "code",
   "execution_count": 37,
   "metadata": {
    "collapsed": false
   },
   "outputs": [],
   "source": [
    "var Billy_inDegree = facebook.inDegrees.filter{ case(id, outdegree) => id == 1}.collect"
   ]
  },
  {
   "cell_type": "code",
   "execution_count": 40,
   "metadata": {
    "collapsed": false
   },
   "outputs": [
    {
     "data": {
      "text/plain": [
       "Name: java.lang.ArrayIndexOutOfBoundsException\n",
       "Message: 0\n",
       "StackTrace: $line110.$read$$iwC$$iwC$$iwC$$iwC$$iwC$$iwC$$iwC$$iwC$$iwC$$iwC$$iwC$$iwC.<init>(<console>:45)\n",
       "$line110.$read$$iwC$$iwC$$iwC$$iwC$$iwC$$iwC$$iwC$$iwC$$iwC$$iwC$$iwC.<init>(<console>:50)\n",
       "$line110.$read$$iwC$$iwC$$iwC$$iwC$$iwC$$iwC$$iwC$$iwC$$iwC$$iwC.<init>(<console>:52)\n",
       "$line110.$read$$iwC$$iwC$$iwC$$iwC$$iwC$$iwC$$iwC$$iwC$$iwC.<init>(<console>:54)\n",
       "$line110.$read$$iwC$$iwC$$iwC$$iwC$$iwC$$iwC$$iwC$$iwC.<init>(<console>:56)\n",
       "$line110.$read$$iwC$$iwC$$iwC$$iwC$$iwC$$iwC$$iwC.<init>(<console>:58)\n",
       "$line110.$read$$iwC$$iwC$$iwC$$iwC$$iwC$$iwC.<init>(<console>:60)\n",
       "$line110.$read$$iwC$$iwC$$iwC$$iwC$$iwC.<init>(<console>:62)\n",
       "$line110.$read$$iwC$$iwC$$iwC$$iwC.<init>(<console>:64)\n",
       "$line110.$read$$iwC$$iwC$$iwC.<init>(<console>:66)\n",
       "$line110.$read$$iwC$$iwC.<init>(<console>:68)\n",
       "$line110.$read$$iwC.<init>(<console>:70)\n",
       "$line110.$read.<init>(<console>:72)\n",
       "$line110.$read$.<init>(<console>:76)\n",
       "$line110.$read$.<clinit>(<console>)\n",
       "$line110.$eval$.<init>(<console>:7)\n",
       "$line110.$eval$.<clinit>(<console>)\n",
       "$line110.$eval.$print(<console>)\n",
       "sun.reflect.NativeMethodAccessorImpl.invoke0(Native Method)\n",
       "sun.reflect.NativeMethodAccessorImpl.invoke(NativeMethodAccessorImpl.java:57)\n",
       "sun.reflect.DelegatingMethodAccessorImpl.invoke(DelegatingMethodAccessorImpl.java:43)\n",
       "java.lang.reflect.Method.invoke(Method.java:606)\n",
       "org.apache.spark.repl.SparkIMain$ReadEvalPrint.call(SparkIMain.scala:1065)\n",
       "org.apache.spark.repl.SparkIMain$Request.loadAndRun(SparkIMain.scala:1346)\n",
       "org.apache.spark.repl.SparkIMain.loadAndRunReq$1(SparkIMain.scala:840)\n",
       "org.apache.spark.repl.SparkIMain.interpret(SparkIMain.scala:871)\n",
       "org.apache.spark.repl.SparkIMain.interpret(SparkIMain.scala:819)\n",
       "org.apache.toree.kernel.interpreter.scala.ScalaInterpreter$$anonfun$interpretAddTask$1$$anonfun$apply$3.apply(ScalaInterpreter.scala:361)\n",
       "org.apache.toree.kernel.interpreter.scala.ScalaInterpreter$$anonfun$interpretAddTask$1$$anonfun$apply$3.apply(ScalaInterpreter.scala:356)\n",
       "org.apache.toree.global.StreamState$.withStreams(StreamState.scala:81)\n",
       "org.apache.toree.kernel.interpreter.scala.ScalaInterpreter$$anonfun$interpretAddTask$1.apply(ScalaInterpreter.scala:355)\n",
       "org.apache.toree.kernel.interpreter.scala.ScalaInterpreter$$anonfun$interpretAddTask$1.apply(ScalaInterpreter.scala:355)\n",
       "org.apache.toree.utils.TaskManager$$anonfun$add$2$$anon$1.run(TaskManager.scala:140)\n",
       "java.util.concurrent.ThreadPoolExecutor.runWorker(ThreadPoolExecutor.java:1145)\n",
       "java.util.concurrent.ThreadPoolExecutor$Worker.run(ThreadPoolExecutor.java:615)\n",
       "java.lang.Thread.run(Thread.java:745)"
      ]
     },
     "execution_count": 40,
     "metadata": {},
     "output_type": "execute_result"
    }
   ],
   "source": [
    "print(Billy_inDegree(0))"
   ]
  },
  {
   "cell_type": "markdown",
   "metadata": {},
   "source": [
    "Highlight over the box below for the answer\n",
    "<table width=\"100%\" cellspacing=\"0\" cellpadding=\"0\" border=\"0\" align=\"center\" bgcolor=\"#ff6600\">\n",
    "<td> <font color = \"white\">var Billy_inDegree = facebook.inDegrees.filter{ case(id, outdegree) => id == 1}.collect<br>\n",
    "print(Billy_inDegree(0))</font>\n",
    "</td>\n",
    "</table>"
   ]
  },
  {
   "cell_type": "markdown",
   "metadata": {},
   "source": [
    "You got an error when you tried to print the Billy_inDegree didn't you? That's to be expected because since there wasn't an inDegree value for Billy's vertex, there wasn't an anything in Billy_inDegree variable.\n",
    "\n",
    "Now let's take a look at the degrees operator. We will do something different than before, and go ahead and use a for loop to cycle through the total degree of each vertex (inDegree + OutDegree)"
   ]
  },
  {
   "cell_type": "code",
   "execution_count": 31,
   "metadata": {
    "collapsed": false,
    "scrolled": true
   },
   "outputs": [
    {
     "name": "stdout",
     "output_type": "stream",
     "text": [
      "(1,2)\n",
      "(2,3)\n",
      "(3,2)\n",
      "(4,1)\n",
      "(5,2)\n"
     ]
    }
   ],
   "source": [
    "for (degree <- facebook.degrees.collect) {\n",
    "    println(degree)\n",
    "}"
   ]
  },
  {
   "cell_type": "markdown",
   "metadata": {},
   "source": [
    "Highlight over the box below for the answer\n",
    "<table width=\"100%\" cellspacing=\"0\" cellpadding=\"0\" border=\"0\" align=\"center\" bgcolor=\"#ff6600\">\n",
    "<td> <font color = \"white\">for (degree <- facebook.degrees.collect) { <br>\n",
    "    println(degree) <br>\n",
    "}</font>\n",
    "</td>\n",
    "</table>"
   ]
  },
  {
   "cell_type": "markdown",
   "metadata": {},
   "source": [
    "So the list that shows up is the same format as before, the first element is the vertex id and the second element is the number of degrees corresponding to that element."
   ]
  },
  {
   "cell_type": "markdown",
   "metadata": {},
   "source": [
    "Now the next Graph Operators we are lookin at is .vertices, .edges, and .triplets. As you have used, and seem them before in the last exercise. They are Graph Operators and it is important to know how to use each of their cases:\n",
    "\n",
    "- .vertices -> Uses format of the defined Vertices of the graph. <br>\n",
    "Ex. We defined our Vertices as (Long, (String, String)), therefore when you call a case on this, you must define variables for each such as (id, (name, user_type)).\n",
    "\n",
    "- .edges -> Uses format of the defined Edges of the graph. <br>\n",
    "Ex. We defined our Edges as Edge[String], therefore when you call a case on this, you can just define one variable such as (relation). However, this variable will have attributes such as .srcId (Source Id), .dstId (Destination Id), and .attr (Attribute).\n",
    "\n",
    "- .triplets -> Uses the combined format of the defined Vertices and Edges. <br>\n",
    "Ex. Follow the above example, when we call a case on this, you define one variable such as (triplet). And this variable will have attributes of both Vertices and Edges such as .srcAttr (Source Attribute), .dstAttr (Destination Attribute) from Vertices, and .srcId (Source Id), .dstId (Destination Id), and .attr (Attribute) from Edges."
   ]
  },
  {
   "cell_type": "markdown",
   "metadata": {
    "collapsed": true
   },
   "source": [
    "So since you've dealt with .vertices and edges, we do a quick example with each then start looking at how to visualize the graph with .triplets since it a combination of .vertices and .edges.\n",
    "\n",
    "Unfortunately, GraphX does not have any build-in visualization, so it's important to know how to create views. Let's go ahead and trying printing out all of the vertices.\n",
    "\n",
    "Hint: Use a for loop and the collect function on .vertices"
   ]
  },
  {
   "cell_type": "code",
   "execution_count": 32,
   "metadata": {
    "collapsed": false
   },
   "outputs": [
    {
     "name": "stdout",
     "output_type": "stream",
     "text": [
      "(1,(Billy Bill,Person))\n",
      "(2,(Jacob Johnson,Person))\n",
      "(3,(Andrew Smith,Person))\n",
      "(4,(Iron Man Fan Page,Page))\n",
      "(5,(Captain America Fan Page,Page))\n"
     ]
    }
   ],
   "source": [
    "for (vertex <- facebook.vertices.collect) {\n",
    "    println(vertex)\n",
    "}"
   ]
  },
  {
   "cell_type": "markdown",
   "metadata": {},
   "source": [
    "Highlight over the box below for the answer\n",
    "<table width=\"100%\" cellspacing=\"0\" cellpadding=\"0\" border=\"0\" align=\"center\" bgcolor=\"#ff6600\">\n",
    "<td> <font color = \"white\">for (vertex <- facebook.vertices.collect) {<br>\n",
    "    println(vertex)<br>\n",
    "}</font>\n",
    "</td>\n",
    "</table>"
   ]
  },
  {
   "cell_type": "markdown",
   "metadata": {},
   "source": [
    "Awesome! Now let's do the same with edges just so we have an idea of all the vertices and edges."
   ]
  },
  {
   "cell_type": "code",
   "execution_count": 33,
   "metadata": {
    "collapsed": false
   },
   "outputs": [
    {
     "name": "stdout",
     "output_type": "stream",
     "text": [
      "Edge(1,2,Friends)\n",
      "Edge(1,3,Friends)\n",
      "Edge(2,4,Follower)\n",
      "Edge(2,5,Follower)\n",
      "Edge(3,5,Follower)\n"
     ]
    }
   ],
   "source": [
    "for (edge <- facebook.edges.collect) {\n",
    "    println(edge)\n",
    "}"
   ]
  },
  {
   "cell_type": "markdown",
   "metadata": {},
   "source": [
    "Highlight over the box below for the answer\n",
    "<table width=\"100%\" cellspacing=\"0\" cellpadding=\"0\" border=\"0\" align=\"center\" bgcolor=\"#ff6600\">\n",
    "<td> <font color = \"white\">for (edge <- facebook.edges.collect) {<br>\n",
    "    println(edge)<br>\n",
    "}</font>\n",
    "</td>\n",
    "</table>"
   ]
  },
  {
   "cell_type": "markdown",
   "metadata": {},
   "source": [
    "Alright, now let's use triplets to create a view of the graph. Just like in last two examples, we will use the collect function on .triplets, however we will denote the Source Attribute (.srcAttr), the edge attribute (.attr), and the Destination Attribute (.dstAttr) all in the same println statement to denote each relationship.\n",
    "\n",
    "Hint: Make sure to use the index on the Source and Destination Attribute!"
   ]
  },
  {
   "cell_type": "code",
   "execution_count": 34,
   "metadata": {
    "collapsed": false,
    "scrolled": true
   },
   "outputs": [
    {
     "name": "stdout",
     "output_type": "stream",
     "text": [
      "Billy Bill is a Friends of Jacob Johnson\n",
      "Billy Bill is a Friends of Andrew Smith\n",
      "Jacob Johnson is a Follower of Iron Man Fan Page\n",
      "Jacob Johnson is a Follower of Captain America Fan Page\n",
      "Andrew Smith is a Follower of Captain America Fan Page\n"
     ]
    }
   ],
   "source": [
    "for (triplet <- facebook.triplets.collect) {\n",
    "  print(triplet.srcAttr._1)\n",
    "  print(\" is a \")\n",
    "  print(triplet.attr)\n",
    "  print(\" of \")\n",
    "  println(triplet.dstAttr._1)\n",
    "}"
   ]
  },
  {
   "cell_type": "markdown",
   "metadata": {},
   "source": [
    "Highlight over the box below for the answer\n",
    "<table width=\"100%\" cellspacing=\"0\" cellpadding=\"0\" border=\"0\" align=\"center\" bgcolor=\"#ff6600\">\n",
    "<td> <font color = \"white\">for (triplet <- facebook.triplets.collect) {<br>\n",
    "  print(triplet.srcAttr._1)<br>\n",
    "  print(\" is a \")<br>\n",
    "  print(triplet.attr)<br>\n",
    "  print(\" of \")<br>\n",
    "  println(triplet.dstAttr._1)<br>\n",
    "}</font>\n",
    "</td>\n",
    "</table>"
   ]
  },
  {
   "cell_type": "markdown",
   "metadata": {},
   "source": [
    "The view looks great! It is important to know how to create a view because GraphX does not have any visualization built-in, it is mainly a parallel graph processing library. There are alternatives such as Graphlab and Gephi, but we won't be looking into these in this course.\n",
    "\n",
    "So the only issue we have is that the relation \"Friends\" and \"Follower\" is different. One is pural, and one is singular. So when we print the view, one set will be correct while the other set will be grammatically incorrect. \n",
    "\n",
    "You may have noticed that the visualization is corrrect, but not the actual graph. That is not a mistake - the visualization is what we want it to be, but it was left there as we want to change this error by learning how to! \n",
    "\n",
    "We will want to change this in the Graph to make \"Friends\" singular to \"Friend\". We will be exploring how to do this in the next lab, so starting thinking!"
   ]
  },
  {
   "cell_type": "markdown",
   "metadata": {},
   "source": [
    "Now we will take a look at an important algorithm in GraphX: pageRank.\n",
    "\n",
    "Pagerank is a algorithm that measures the importance of each vertex by directly correlating it's importance with edges (properties and quantity). There are two options for Pagerank, static and dynamic. Static runs for a fixed number of iterations while dynamtic runs until the rank converges.\n",
    "\n",
    "We won't worry too much as we will just introduce the concept. Now, in this case I went ahead and used the pageRank function on our graph, and collected the vertices into a variable called rank. Now go ahead and try to print it out!\n",
    "\n",
    "Note: rank is a collection, so you will need to use a for loop!"
   ]
  },
  {
   "cell_type": "code",
   "execution_count": 35,
   "metadata": {
    "collapsed": true
   },
   "outputs": [],
   "source": [
    "val rank = facebook.pageRank(0.1).vertices.collect"
   ]
  },
  {
   "cell_type": "code",
   "execution_count": 36,
   "metadata": {
    "collapsed": false,
    "scrolled": true
   },
   "outputs": [
    {
     "name": "stdout",
     "output_type": "stream",
     "text": [
      "(1,0.15)\n",
      "(2,0.21375)\n",
      "(3,0.21375)\n",
      "(4,0.21375)\n",
      "(5,0.34124999999999994)\n"
     ]
    }
   ],
   "source": [
    "for (rankee <- rank) {\n",
    "    println(rankee)\n",
    "}"
   ]
  },
  {
   "cell_type": "markdown",
   "metadata": {},
   "source": [
    "Highlight over the box below for the answer\n",
    "<table width=\"100%\" cellspacing=\"0\" cellpadding=\"0\" border=\"0\" align=\"center\" bgcolor=\"#ff6600\">\n",
    "<td> <font color = \"white\">for (rankee <- rank) {<br>\n",
    "    println(rankee)<br>\n",
    "}</font>\n",
    "</td>\n",
    "</table>"
   ]
  },
  {
   "cell_type": "markdown",
   "metadata": {},
   "source": [
    "Alright! So what do these numbers mean? The first part is the ID of the vertex, and the second value is their rank determined by pageRank. The higher the number, the higher the rank. So it looks like ID = 5 (\"Iron Man Fan Page\") is the most important, which makes sense because it has two followers (the most). \n",
    "\n",
    "So this is just an introduction to pageRank, so if you would like to dive more into it, feel free to take a look at this documentation! http://spark.apache.org/docs/latest/graphx-programming-guide.html#pagerank\n",
    "\n",
    "That's it for this lab, in the next exercise we will be taking a look at modifying the graph and how GraphX does it with RDDs which are immutable!"
   ]
  }
 ],
 "metadata": {
  "kernelspec": {
   "display_name": "Apache Toree - Scala",
   "language": "scala",
   "name": "apache_toree_scala"
  },
  "language_info": {
   "name": "scala",
   "version": "2.10.4"
  },
  "widgets": {
   "state": {},
   "version": "1.1.2"
  }
 },
 "nbformat": 4,
 "nbformat_minor": 0
}
